{
 "cells": [
  {
   "cell_type": "code",
   "execution_count": 2,
   "metadata": {},
   "outputs": [],
   "source": [
    "import numpy as np\n",
    "import jax\n",
    "import jax.numpy as jnp\n",
    "import matplotlib.pyplot as plt\n",
    "\n",
    "import transport_qmc.targets as Targets\n",
    "from transport_qmc.tqmc import TransportQMC\n",
    "from transport_qmc.train import lbfgs\n",
    "from transport_qmc.utils import sample_uniform"
   ]
  },
  {
   "cell_type": "markdown",
   "metadata": {},
   "source": [
    "### Set up the target distribution"
   ]
  },
  {
   "cell_type": "code",
   "execution_count": 3,
   "metadata": {},
   "outputs": [
    {
     "name": "stdout",
     "output_type": "stream",
     "text": [
      "Dimension = 2\n"
     ]
    }
   ],
   "source": [
    "posterior_name = 'nes_logit'\n",
    "data_file = f\"stan/{posterior_name}.json\"\n",
    "target = getattr(Targets, posterior_name)(data_file)\n",
    "d = target.d\n",
    "print(\"Dimension =\", d)"
   ]
  },
  {
   "cell_type": "markdown",
   "metadata": {},
   "source": [
    "### Set up normalizing flow"
   ]
  },
  {
   "cell_type": "code",
   "execution_count": 4,
   "metadata": {},
   "outputs": [],
   "source": [
    "model = TransportQMC(d, target, num_composition=1, max_deg=7)\n",
    "params = model.init_params()\n",
    "\n",
    "get_kl = jax.jit(model.reverse_kl)  # use reverse KL as loss function\n",
    "get_ess = jax.jit(model.ess) # use ESS as validation metric"
   ]
  },
  {
   "cell_type": "code",
   "execution_count": 5,
   "metadata": {},
   "outputs": [],
   "source": [
    "rng = np.random.default_rng(1)\n",
    "nsample = 2**8\n",
    "\n",
    "U_train = jnp.array(sample_uniform(nsample, d, rng, 'rqmc'))\n",
    "loss_fn = lambda params: get_kl(params, U_train)\n",
    "\n",
    "U_val = jnp.array(sample_uniform(nsample, d, rng, 'rqmc')) \n",
    "val_fn = lambda params: get_ess(params, U_val)"
   ]
  },
  {
   "cell_type": "markdown",
   "metadata": {},
   "source": [
    "### Training normalizing flow"
   ]
  },
  {
   "cell_type": "code",
   "execution_count": 6,
   "metadata": {},
   "outputs": [
    {
     "name": "stderr",
     "output_type": "stream",
     "text": [
      "2025-03-03 12:24:31.950455: W external/xla/xla/hlo/transforms/host_offloader.cc:372] Token parameters are not supported for streaming.\n",
      "Running for 100 iterations: 100%|██████████| 100/100 [00:01<00:00, 82.48it/s]\n"
     ]
    }
   ],
   "source": [
    "final_state, ess_trace = lbfgs(loss_fn, params, val_fn, max_iter=100, max_lr=1.)"
   ]
  },
  {
   "cell_type": "code",
   "execution_count": 7,
   "metadata": {},
   "outputs": [
    {
     "data": {
      "text/plain": [
       "[<matplotlib.lines.Line2D at 0x7f0df05e1930>]"
      ]
     },
     "execution_count": 7,
     "metadata": {},
     "output_type": "execute_result"
    },
    {
     "data": {
      "image/png": "[encoded data removed]",
      "text/plain": [
       "<Figure size 300x300 with 1 Axes>"
      ]
     },
     "metadata": {},
     "output_type": "display_data"
    }
   ],
   "source": [
    "# plot ESS versus iterations\n",
    "plt.figure(figsize=(3, 3))\n",
    "plt.plot(ess_trace)"
   ]
  },
  {
   "cell_type": "markdown",
   "metadata": {},
   "source": [
    "### Generate samples from the trained flow"
   ]
  },
  {
   "cell_type": "code",
   "execution_count": 8,
   "metadata": {},
   "outputs": [],
   "source": [
    "params = final_state[0]\n",
    "nf_samples, log_weights = model.sample(params, 2**10, 10)"
   ]
  },
  {
   "cell_type": "code",
   "execution_count": 9,
   "metadata": {},
   "outputs": [],
   "source": [
    "weights = jnp.exp(log_weights - jnp.max(log_weights))\n",
    "moments_1 = jnp.sum(weights[:, None] * nf_samples, axis=0) / jnp.sum(weights)\n",
    "moments_2 = jnp.sum(weights[:, None] * nf_samples**2, axis=0) / jnp.sum(weights)"
   ]
  },
  {
   "cell_type": "code",
   "execution_count": 10,
   "metadata": {},
   "outputs": [
    {
     "name": "stdout",
     "output_type": "stream",
     "text": [
      "first moment  [-1.3544543   0.31219873]\n",
      "second moment [1.8688024  0.10057718]\n"
     ]
    }
   ],
   "source": [
    "print(\"first moment \", moments_1)\n",
    "print(\"second moment\", moments_2)"
   ]
  },
  {
   "cell_type": "markdown",
   "metadata": {},
   "source": [
    "### Compare with MCMC"
   ]
  },
  {
   "cell_type": "code",
   "execution_count": 16,
   "metadata": {},
   "outputs": [
    {
     "name": "stderr",
     "output_type": "stream",
     "text": [
      "/tmp/ipykernel_4072246/2212093125.py:5: UserWarning: There are not enough devices to run parallel chains: expected 4 but got 1. Chains will be drawn sequentially. If you are running MCMC in CPU, consider using `numpyro.set_host_device_count(4)` at the beginning of your program. You can double-check how many devices are available in your system using `jax.local_device_count()`.\n",
      "  mcmc = MCMC(nuts_kernel, num_warmup=100, num_samples=1000, num_chains=num_chains)\n",
      "sample: 100%|██████████| 1100/1100 [00:05<00:00, 192.47it/s, 15 steps of size 1.18e-01. acc. prob=0.91]\n",
      "sample: 100%|██████████| 1100/1100 [00:02<00:00, 392.55it/s, 3 steps of size 2.03e-01. acc. prob=0.94] \n",
      "sample: 100%|██████████| 1100/1100 [00:03<00:00, 359.10it/s, 3 steps of size 5.69e-02. acc. prob=0.97] \n",
      "sample: 100%|██████████| 1100/1100 [00:02<00:00, 452.75it/s, 3 steps of size 2.18e-01. acc. prob=0.89] \n"
     ]
    }
   ],
   "source": [
    "from numpyro.infer import NUTS, MCMC\n",
    "\n",
    "nuts_kernel = NUTS(target.numpyro_model)\n",
    "num_chains = 4\n",
    "mcmc = MCMC(nuts_kernel, num_warmup=100, num_samples=1000, num_chains=num_chains)\n",
    "mcmc.run(jax.random.key(1))\n",
    "\n",
    "mcmc_results = mcmc.get_samples()"
   ]
  },
  {
   "cell_type": "code",
   "execution_count": 17,
   "metadata": {},
   "outputs": [
    {
     "name": "stdout",
     "output_type": "stream",
     "text": [
      "MCMC first moment  [-1.3483223   0.30981934]\n",
      "MCMC second moment [1.8540069  0.09924772]\n"
     ]
    }
   ],
   "source": [
    "param_names = target.param_unc_names()\n",
    "mcmc_samples_unc = None\n",
    "for key in param_names:\n",
    "    sample = mcmc_results[key]\n",
    "    if sample.ndim == 1:\n",
    "        sample = sample.reshape(-1, 1)\n",
    "    if mcmc_samples_unc is None:\n",
    "        mcmc_samples_unc = sample\n",
    "    else:\n",
    "        mcmc_samples_unc = np.concatenate([mcmc_samples_unc, sample], axis=1)\n",
    "\n",
    "mcmc_samples = target.param_constrain(mcmc_samples_unc)\n",
    "mcmc_moments_1 = np.mean(mcmc_samples, axis=0)\n",
    "mcmc_moments_2 = np.mean(mcmc_samples**2, axis=0)\n",
    "\n",
    "print(\"MCMC first moment \", mcmc_moments_1)\n",
    "print(\"MCMC second moment\", mcmc_moments_2)"
   ]
  },
  {
   "cell_type": "markdown",
   "metadata": {},
   "source": [
    "### Histogram of samples"
   ]
  },
  {
   "cell_type": "code",
   "execution_count": 18,
   "metadata": {},
   "outputs": [
    {
     "data": {
      "text/plain": [
       "(array([0.10502194, 0.36757678, 1.47030711, 3.80704519, 6.48510456,\n",
       "        6.87893682, 4.69973165, 2.25797163, 0.68264259, 0.13127742]),\n",
       " array([0.11987364, 0.15706825, 0.19426286, 0.23145747, 0.26865208,\n",
       "        0.30584669, 0.3430413 , 0.38023591, 0.41743052, 0.45462513,\n",
       "        0.49181974]),\n",
       " <BarContainer object of 10 artists>)"
      ]
     },
     "execution_count": 18,
     "metadata": {},
     "output_type": "execute_result"
    },
    {
     "data": {
      "image/png": "[encoded data removed]",
      "text/plain": [
       "<Figure size 600x300 with 2 Axes>"
      ]
     },
     "metadata": {},
     "output_type": "display_data"
    }
   ],
   "source": [
    "fig, ax = plt.subplots(1, 2, figsize=(6, 3))\n",
    "\n",
    "ax[0].hist(mcmc_samples[:, 0], alpha=0.5, density=True, label='MCMC')\n",
    "ax[0].hist(nf_samples[:, 0], alpha=0.5, density=True, label='TQMC')\n",
    "ax[0].legend()\n",
    "\n",
    "ax[1].hist(mcmc_samples[:, 1], alpha=0.5, density=True)\n",
    "ax[1].hist(nf_samples[:, 1], alpha=0.5, density=True)"
   ]
  },
  {
   "cell_type": "code",
   "execution_count": null,
   "metadata": {},
   "outputs": [],
   "source": []
  }
 ],
 "metadata": {
  "kernelspec": {
   "display_name": "venv_tqmc",
   "language": "python",
   "name": "python3"
  },
  "language_info": {
   "codemirror_mode": {
    "name": "ipython",
    "version": 3
   },
   "file_extension": ".py",
   "mimetype": "text/x-python",
   "name": "python",
   "nbconvert_exporter": "python",
   "pygments_lexer": "ipython3",
   "version": "3.10.13"
  }
 },
 "nbformat": 4,
 "nbformat_minor": 2
}
