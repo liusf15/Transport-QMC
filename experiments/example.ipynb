{
 "cells": [
  {
   "cell_type": "code",
   "execution_count": 33,
   "metadata": {},
   "outputs": [],
   "source": [
    "import numpy as np\n",
    "import jax\n",
    "import jax.numpy as jnp\n",
    "import matplotlib.pyplot as plt\n",
    "\n",
    "import transport_qmc.targets as Targets\n",
    "from transport_qmc.tqmc import TransportQMC\n",
    "from transport_qmc.train import lbfgs\n",
    "from transport_qmc.utils import sample_uniform"
   ]
  },
  {
   "cell_type": "markdown",
   "metadata": {},
   "source": [
    "### Set up the target distribution"
   ]
  },
  {
   "cell_type": "code",
   "execution_count": 34,
   "metadata": {},
   "outputs": [
    {
     "name": "stdout",
     "output_type": "stream",
     "text": [
      "Dimension = 2\n"
     ]
    }
   ],
   "source": [
    "posterior_name = 'nes_logit'\n",
    "data_file = f\"stan/{posterior_name}.json\"\n",
    "target = getattr(Targets, posterior_name)(data_file)\n",
    "d = target.d\n",
    "print(\"Dimension =\", d)"
   ]
  },
  {
   "cell_type": "markdown",
   "metadata": {},
   "source": [
    "### Set up normalizing flow"
   ]
  },
  {
   "cell_type": "code",
   "execution_count": 35,
   "metadata": {},
   "outputs": [],
   "source": [
    "model = TransportQMC(d, target, num_composition=1, max_deg=7)\n",
    "params = model.init_params()\n",
    "\n",
    "get_kl = jax.jit(model.reverse_kl)  # use reverse KL as loss function\n",
    "get_ess = jax.jit(model.ess) # use ESS as validation metric\n"
   ]
  },
  {
   "cell_type": "code",
   "execution_count": 36,
   "metadata": {},
   "outputs": [],
   "source": [
    "rng = np.random.default_rng(1)\n",
    "nsample = 2**8\n",
    "\n",
    "U_train = jnp.array(sample_uniform(nsample, d, rng, 'rqmc'))\n",
    "loss_fn = lambda params: get_kl(params, U_train)\n",
    "\n",
    "U_val = jnp.array(sample_uniform(nsample, d, rng, 'rqmc')) \n",
    "val_fn = lambda params: get_ess(params, U_val)"
   ]
  },
  {
   "cell_type": "markdown",
   "metadata": {},
   "source": [
    "### Training normalizing flow"
   ]
  },
  {
   "cell_type": "code",
   "execution_count": 39,
   "metadata": {},
   "outputs": [
    {
     "name": "stderr",
     "output_type": "stream",
     "text": [
      "Running for 100 iterations: 100%|██████████| 100/100 [00:05<00:00, 18.74it/s]\n"
     ]
    }
   ],
   "source": [
    "final_state, ess_trace = lbfgs(loss_fn, params, val_fn, max_iter=100, max_lr=1.)"
   ]
  },
  {
   "cell_type": "code",
   "execution_count": 40,
   "metadata": {},
   "outputs": [
    {
     "data": {
      "text/plain": [
       "[<matplotlib.lines.Line2D at 0x15547f6e0bb0>]"
      ]
     },
     "execution_count": 40,
     "metadata": {},
     "output_type": "execute_result"
    },
    {
     "data": {
      "image/png": "[encoded data removed]",
      "text/plain": [
       "<Figure size 300x300 with 1 Axes>"
      ]
     },
     "metadata": {},
     "output_type": "display_data"
    }
   ],
   "source": [
    "# plot ESS versus iterations\n",
    "plt.figure(figsize=(3, 3))\n",
    "plt.plot(ess_trace)"
   ]
  },
  {
   "cell_type": "markdown",
   "metadata": {},
   "source": [
    "### Generate samples from the trained flow"
   ]
  },
  {
   "cell_type": "code",
   "execution_count": 41,
   "metadata": {},
   "outputs": [],
   "source": [
    "params = final_state[0]\n",
    "nf_samples, log_weights = model.sample(params, 2**10, 10)"
   ]
  },
  {
   "cell_type": "code",
   "execution_count": 42,
   "metadata": {},
   "outputs": [],
   "source": [
    "weights = jnp.exp(log_weights - jnp.max(log_weights))\n",
    "moments_1 = jnp.sum(weights[:, None] * nf_samples, axis=0) / jnp.sum(weights)\n",
    "moments_2 = jnp.sum(weights[:, None] * nf_samples**2, axis=0) / jnp.sum(weights)"
   ]
  },
  {
   "cell_type": "code",
   "execution_count": 43,
   "metadata": {},
   "outputs": [
    {
     "data": {
      "text/plain": [
       "(Array([-1.3544537,  0.3121986], dtype=float32),\n",
       " Array([1.8688005 , 0.10057709], dtype=float32))"
      ]
     },
     "execution_count": 43,
     "metadata": {},
     "output_type": "execute_result"
    }
   ],
   "source": [
    "moments_1, moments_2"
   ]
  },
  {
   "cell_type": "markdown",
   "metadata": {},
   "source": [
    "### Compare with MCMC"
   ]
  },
  {
   "cell_type": "code",
   "execution_count": 45,
   "metadata": {},
   "outputs": [
    {
     "name": "stderr",
     "output_type": "stream",
     "text": [
      "sample: 100%|██████████| 1100/1100 [00:00<00:00, 1140.62it/s, 3 steps of size 2.33e-01. acc. prob=0.88]\n"
     ]
    }
   ],
   "source": [
    "from numpyro.infer import NUTS, MCMC\n",
    "\n",
    "nuts_kernel = NUTS(target.numpyro_model)\n",
    "mcmc = MCMC(nuts_kernel, num_warmup=100, num_samples=1000)\n",
    "mcmc.run(jax.random.key(1))\n",
    "\n",
    "mcmc_samples = mcmc.get_samples()"
   ]
  },
  {
   "cell_type": "code",
   "execution_count": 46,
   "metadata": {},
   "outputs": [],
   "source": [
    "mcmc_samples = np.hstack([mcmc_samples['alpha'].reshape(-1, 1), mcmc_samples['beta']])\n",
    "mcmc_samples = target.param_constrain(mcmc_samples)"
   ]
  },
  {
   "cell_type": "code",
   "execution_count": 47,
   "metadata": {},
   "outputs": [
    {
     "data": {
      "text/plain": [
       "(array([-1.3686001 ,  0.31600034], dtype=float32),\n",
       " array([1.9159741 , 0.10376722], dtype=float32))"
      ]
     },
     "execution_count": 47,
     "metadata": {},
     "output_type": "execute_result"
    }
   ],
   "source": [
    "np.mean(mcmc_samples, 0), np.mean(mcmc_samples**2, 0)"
   ]
  },
  {
   "cell_type": "markdown",
   "metadata": {},
   "source": [
    "### Histogram of samples"
   ]
  },
  {
   "cell_type": "code",
   "execution_count": 48,
   "metadata": {},
   "outputs": [
    {
     "data": {
      "text/plain": [
       "(array([0.10500808, 0.36752828, 1.4701131 , 3.80654285, 6.48424886,\n",
       "        6.87802915, 4.69911152, 2.25767369, 0.68255251, 0.1312601 ]),\n",
       " array([0.11977645, 0.15697597, 0.19417549, 0.23137501, 0.26857453,\n",
       "        0.30577404, 0.34297356, 0.38017308, 0.4173726 , 0.45457212,\n",
       "        0.49177164]),\n",
       " <BarContainer object of 10 artists>)"
      ]
     },
     "execution_count": 48,
     "metadata": {},
     "output_type": "execute_result"
    },
    {
     "data": {
      "image/png": "[encoded data removed]",
      "text/plain": [
       "<Figure size 600x300 with 2 Axes>"
      ]
     },
     "metadata": {},
     "output_type": "display_data"
    }
   ],
   "source": [
    "fig, ax = plt.subplots(1, 2, figsize=(6, 3))\n",
    "\n",
    "ax[0].hist(mcmc_samples[:, 0], alpha=0.5, density=True, label='MCMC')\n",
    "ax[0].hist(nf_samples[:, 0], alpha=0.5, density=True, label='TQMC')\n",
    "ax[0].legend()\n",
    "\n",
    "ax[1].hist(mcmc_samples[:, 1], alpha=0.5, density=True)\n",
    "ax[1].hist(nf_samples[:, 1], alpha=0.5, density=True)"
   ]
  },
  {
   "cell_type": "code",
   "execution_count": null,
   "metadata": {},
   "outputs": [],
   "source": []
  }
 ],
 "metadata": {
  "kernelspec": {
   "display_name": "venv_tqmc",
   "language": "python",
   "name": "python3"
  },
  "language_info": {
   "codemirror_mode": {
    "name": "ipython",
    "version": 3
   },
   "file_extension": ".py",
   "mimetype": "text/x-python",
   "name": "python",
   "nbconvert_exporter": "python",
   "pygments_lexer": "ipython3",
   "version": "3.10.13"
  }
 },
 "nbformat": 4,
 "nbformat_minor": 2
}
