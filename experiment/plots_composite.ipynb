{
 "cells": [
  {
   "cell_type": "code",
   "execution_count": 1,
   "metadata": {},
   "outputs": [
    {
     "name": "stderr",
     "output_type": "stream",
     "text": [
      "/mnt/sw/nix/store/71ksmx7k6xy3v9ksfkv5mp5kxxp64pd6-python-3.10.13-view/lib/python3.10/site-packages/numpy/core/getlimits.py:549: UserWarning: The value of the smallest subnormal for <class 'numpy.float64'> type is zero.\n",
      "  setattr(self, word, getattr(machar, word).flat[0])\n",
      "/mnt/sw/nix/store/71ksmx7k6xy3v9ksfkv5mp5kxxp64pd6-python-3.10.13-view/lib/python3.10/site-packages/numpy/core/getlimits.py:89: UserWarning: The value of the smallest subnormal for <class 'numpy.float64'> type is zero.\n",
      "  return self._float_to_str(self.smallest_subnormal)\n",
      "/mnt/sw/nix/store/71ksmx7k6xy3v9ksfkv5mp5kxxp64pd6-python-3.10.13-view/lib/python3.10/site-packages/numpy/core/getlimits.py:549: UserWarning: The value of the smallest subnormal for <class 'numpy.float32'> type is zero.\n",
      "  setattr(self, word, getattr(machar, word).flat[0])\n",
      "/mnt/sw/nix/store/71ksmx7k6xy3v9ksfkv5mp5kxxp64pd6-python-3.10.13-view/lib/python3.10/site-packages/numpy/core/getlimits.py:89: UserWarning: The value of the smallest subnormal for <class 'numpy.float32'> type is zero.\n",
      "  return self._float_to_str(self.smallest_subnormal)\n"
     ]
    }
   ],
   "source": [
    "import numpy as np\n",
    "import pickle\n",
    "import pandas as pd\n",
    "import matplotlib.pyplot as plt\n",
    "import seaborn as sns\n",
    "import os\n",
    "rootdir = '/mnt/home/sliu1/ceph/normalizing_flows/qmc_flow'"
   ]
  },
  {
   "cell_type": "code",
   "execution_count": 2,
   "metadata": {},
   "outputs": [
    {
     "name": "stderr",
     "output_type": "stream",
     "text": [
      "/tmp/ipykernel_1020629/1147993404.py:34: RuntimeWarning: Mean of empty slice\n",
      "  mse_1 = np.nanmean((res['moment'][0] - ref_moments_1)**2)\n"
     ]
    }
   ],
   "source": [
    "name = 'banana'\n",
    "if name == 'corr-normal':\n",
    "    ref_moments = {'moment_1': np.zeros(50), 'moment_2': np.ones(50)}\n",
    "elif name == 'banana':\n",
    "    ref_moments = {'moment_1': np.zeros(3), 'moment_2': np.array([1., 2.5, 1.])}\n",
    "    ref_moments_1 = ref_moments['moment_1']\n",
    "    ref_moments_2 = ref_moments['moment_2']\n",
    "else:\n",
    "    filename = f'/mnt/home/sliu1/normalizing_flows/qmc_flow/stan_models/moments_{name}_chain_20_warmup_25000_nsample_50000.pkl'\n",
    "    with open(filename, 'rb') as f:\n",
    "        moments = pickle.load(f)\n",
    "    ref_moments_1 = moments['moment_1'].mean(0)\n",
    "    ref_moments_1_var = moments['moment_1'].var(0)\n",
    "    ref_moments_2 = moments['moment_2'].mean(0)\n",
    "date = '2024-08-27'\n",
    "path = os.path.join(rootdir, date, name)\n",
    "max_deg = 3\n",
    "num_layers = 3\n",
    "results = {}\n",
    "losses = {}\n",
    "ESSs = {}\n",
    "for method in ['mc', 'rqmc']:\n",
    "    for m in [6, 9, 12]:\n",
    "        nsample = 2**m\n",
    "        for max_iter in [200]:\n",
    "            for seed in range(20):\n",
    "                filename = os.path.join(path, f'composite_rkl_{method}_n_{nsample}_deg_{max_deg}_layer_{num_layers}_iter_{max_iter}_{seed}.pkl')\n",
    "                if not os.path.exists(filename):\n",
    "                    continue\n",
    "                with open(filename, 'rb') as f:\n",
    "                    res = pickle.load(f)\n",
    "                # mse_1 = np.mean((res['moments'][-1][0] - ref_moments_1)**2)\n",
    "                # mse_2 = np.mean((res['moments'][-1][1] - ref_moments_2)**2)\n",
    "                mse_1 = np.nanmean((res['moment'][0] - ref_moments_1)**2)\n",
    "                results[(method, m, max_iter, seed)] = mse_1\n",
    "                ESSs[(method, m, max_iter, seed)] = res['ess']\n",
    "                \n",
    "                # losses[(method, m)] = res['losses'] + [res['losses'][-1]] * (max_iter - len(res['losses']))"
   ]
  },
  {
   "cell_type": "code",
   "execution_count": 3,
   "metadata": {},
   "outputs": [
    {
     "data": {
      "text/plain": [
       "{('mc', 6, 200, 0): 24.214878267415678,\n",
       " ('mc', 6, 200, 1): nan,\n",
       " ('mc', 6, 200, 2): 18.90623684808479,\n",
       " ('mc', 6, 200, 3): 9.93383744248212,\n",
       " ('mc', 6, 200, 4): nan,\n",
       " ('mc', 9, 200, 0): 211.38872426586852,\n",
       " ('mc', 9, 200, 1): 84.4424562556913,\n",
       " ('mc', 9, 200, 2): 52.018909295622514,\n",
       " ('mc', 9, 200, 3): nan,\n",
       " ('mc', 9, 200, 4): 111.91736121293052,\n",
       " ('rqmc', 6, 200, 0): 21.93273522614303,\n",
       " ('rqmc', 6, 200, 1): 39.56282678364844,\n",
       " ('rqmc', 6, 200, 2): 59.40609748333709,\n",
       " ('rqmc', 6, 200, 3): 43.85589602938036,\n",
       " ('rqmc', 6, 200, 4): 52.27613763713556,\n",
       " ('rqmc', 9, 200, 0): 194.55219816111946,\n",
       " ('rqmc', 9, 200, 1): 210.50957368704698,\n",
       " ('rqmc', 9, 200, 2): 185.74321923689294,\n",
       " ('rqmc', 9, 200, 3): 191.64836902236635,\n",
       " ('rqmc', 9, 200, 4): 168.4605982926016}"
      ]
     },
     "execution_count": 3,
     "metadata": {},
     "output_type": "execute_result"
    }
   ],
   "source": [
    "ESSs"
   ]
  },
  {
   "cell_type": "code",
   "execution_count": 55,
   "metadata": {},
   "outputs": [
    {
     "data": {
      "text/plain": [
       "Text(0.5, 0, 'Number of samples')"
      ]
     },
     "execution_count": 55,
     "metadata": {},
     "output_type": "execute_result"
    },
    {
     "data": {
      "image/png": "[encoded data removed]",
      "text/plain": [
       "<Figure size 640x480 with 1 Axes>"
      ]
     },
     "metadata": {},
     "output_type": "display_data"
    }
   ],
   "source": [
    "df = pd.DataFrame(results, index=['MSE']).T\n",
    "df.reset_index(names=['method', 'm', 'max_iter', 'seed'], inplace=True)\n",
    "\n",
    "sns.set_theme(context='paper', style='darkgrid', font_scale=1.5)\n",
    "sns.pointplot(data=df, x='m', hue='method', y='MSE', capsize=.1, errorbar=('ci', 90))\n",
    "plt.axhline(ref_moments_1_var.mean(), ls=':', color='k')\n",
    "# sns.boxplot(data=df, x='m', hue='method', y='MSE')\n",
    "plt.yscale('log', base=10)\n",
    "plt.title(name)\n",
    "plt.xticks(range(3), [f'$2^{{{m}}}$' for m in [6, 9, 12]])\n",
    "plt.xlabel('Number of samples')\n",
    "# plt.savefig(f'/mnt/home/sliu1/normalizing_flows/qmc_flow/plots/{name}_deg_{max_deg}_layer_{num_layers}_iter_{max_iter}_MSE_vs_n.pdf')"
   ]
  },
  {
   "cell_type": "code",
   "execution_count": 46,
   "metadata": {},
   "outputs": [
    {
     "data": {
      "text/plain": [
       "method      object\n",
       "m            int64\n",
       "max_iter     int64\n",
       "seed         int64\n",
       "MSE         object\n",
       "dtype: object"
      ]
     },
     "execution_count": 46,
     "metadata": {},
     "output_type": "execute_result"
    }
   ],
   "source": []
  },
  {
   "cell_type": "code",
   "execution_count": null,
   "metadata": {},
   "outputs": [],
   "source": []
  }
 ],
 "metadata": {
  "kernelspec": {
   "display_name": "venv_nf",
   "language": "python",
   "name": "python3"
  },
  "language_info": {
   "codemirror_mode": {
    "name": "ipython",
    "version": 3
   },
   "file_extension": ".py",
   "mimetype": "text/x-python",
   "name": "python",
   "nbconvert_exporter": "python",
   "pygments_lexer": "ipython3",
   "version": "3.10.13"
  }
 },
 "nbformat": 4,
 "nbformat_minor": 2
}
